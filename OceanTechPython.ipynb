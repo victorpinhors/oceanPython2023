{
  "nbformat": 4,
  "nbformat_minor": 0,
  "metadata": {
    "colab": {
      "provenance": [],
      "authorship_tag": "ABX9TyOjN6/r7xV63okhG65rGhdu",
      "include_colab_link": true
    },
    "kernelspec": {
      "name": "python3",
      "display_name": "Python 3"
    },
    "language_info": {
      "name": "python"
    }
  },
  "cells": [
    {
      "cell_type": "markdown",
      "metadata": {
        "id": "view-in-github",
        "colab_type": "text"
      },
      "source": [
        "<a href=\"https://colab.research.google.com/github/victorpinhors/oceanPython2023/blob/main/OceanTechPython.ipynb\" target=\"_parent\"><img src=\"https://colab.research.google.com/assets/colab-badge.svg\" alt=\"Open In Colab\"/></a>"
      ]
    },
    {
      "cell_type": "code",
      "execution_count": null,
      "metadata": {
        "colab": {
          "base_uri": "https://localhost:8080/"
        },
        "id": "LquzjChsCX4_",
        "outputId": "dc865ebb-fb47-449a-89cf-7bfbcd97eb8d"
      },
      "outputs": [
        {
          "output_type": "stream",
          "name": "stdout",
          "text": [
            "Informe a nota: 20\n",
            "A nota 20.0 é classificada como grau E.\n"
          ]
        }
      ],
      "source": [
        "# Solicita ao usuário que insira uma nota\n",
        "nota = float(input(\"Informe a nota: \"))\n",
        "\n",
        "# Classifica a nota em graus\n",
        "if nota >= 90:\n",
        "    grau = \"A\"\n",
        "elif nota >= 80:\n",
        "    grau = \"B\"\n",
        "elif nota >= 70:\n",
        "    grau = \"C\"\n",
        "elif nota >= 60:\n",
        "    grau = \"D\"\n",
        "else:\n",
        "    grau = \"E\"\n",
        "\n",
        "# Exibe o resultado\n",
        "print(f\"A nota {nota} é classificada como grau {grau}.\")\n"
      ]
    },
    {
      "cell_type": "code",
      "source": [
        "nota = float(input(\"Informe a nota: \"))\n",
        "\n",
        "if nota >= 90:\n",
        "    grau = \"A\"\n",
        "elif nota >= 80:\n",
        "    grau = \"B\"\n",
        "elif nota >= 70:\n",
        "    grau = \"C\"\n",
        "elif nota >= 60:\n",
        "    grau = \"D\"\n",
        "else:\n",
        "    grau = \"E\"\n",
        "\n",
        "print(f\"O grau da nota {nota} é {grau}.\")\n"
      ],
      "metadata": {
        "colab": {
          "base_uri": "https://localhost:8080/"
        },
        "id": "KpdJS94FJKgv",
        "outputId": "3be24d4b-28dd-47a0-dc16-c98a02760cdb"
      },
      "execution_count": null,
      "outputs": [
        {
          "output_type": "stream",
          "name": "stdout",
          "text": [
            "Informe a nota: 10\n",
            "O grau da nota 10.0 é E.\n"
          ]
        }
      ]
    },
    {
      "cell_type": "code",
      "source": [
        "try:\n",
        "    nota = float(input(\"Informe a nota: \"))\n",
        "\n",
        "    if nota >= 90:\n",
        "        grau = \"A\"\n",
        "    elif nota >= 80:\n",
        "        grau = \"B\"\n",
        "    elif nota >= 70:\n",
        "        grau = \"C\"\n",
        "    elif nota >= 60:\n",
        "        grau = \"D\"\n",
        "    else:\n",
        "        grau = \"E\"\n",
        "\n",
        "    print(f\"O grau da nota {nota} é {grau}.\")\n",
        "\n",
        "except ValueError:\n",
        "    print(\"Entrada inválida. Por favor, insira um número válido para a nota.\")\n"
      ],
      "metadata": {
        "colab": {
          "base_uri": "https://localhost:8080/"
        },
        "id": "5ILmw7thJndz",
        "outputId": "67d47232-5928-46c4-c753-8ff490443b7d"
      },
      "execution_count": null,
      "outputs": [
        {
          "output_type": "stream",
          "name": "stdout",
          "text": [
            "Informe a nota: hh\n",
            "Entrada inválida. Por favor, insira um número válido para a nota.\n"
          ]
        }
      ]
    },
    {
      "cell_type": "code",
      "source": [
        "import time\n",
        "\n",
        "while True:\n",
        "    try:\n",
        "        nota = float(input(\"Informe a nota: \"))\n",
        "\n",
        "        if nota >= 90:\n",
        "            grau = \"A\"\n",
        "        elif nota >= 80:\n",
        "            grau = \"B\"\n",
        "        elif nota >= 70:\n",
        "            grau = \"C\"\n",
        "        elif nota >= 60:\n",
        "            grau = \"D\"\n",
        "        else:\n",
        "            grau = \"E\"\n",
        "\n",
        "        print(f\"A nota {nota} é classificada como grau {grau}.\")\n",
        "\n",
        "    except ValueError:\n",
        "        print(\"Erro: Entrada inválida. Por favor, insira um número válido para a nota.\")\n",
        "\n",
        "    time.sleep(40)  # Aguarda 40 segundos antes de recarregar o código\n"
      ],
      "metadata": {
        "id": "yZh5lhieKnM-"
      },
      "execution_count": null,
      "outputs": []
    },
    {
      "cell_type": "code",
      "source": [
        "try:\n",
        "    numero = int(input(\"Digite um número inteiro: \"))\n",
        "\n",
        "    if numero % 2 == 0:\n",
        "        print(f\"{numero} é um número PAR.\")\n",
        "    else:\n",
        "        print(f\"{numero} é um número ÍMPAR.\")\n",
        "\n",
        "except ValueError:\n",
        "    print(\"Erro: Insira um número inteiro válido.\")"
      ],
      "metadata": {
        "colab": {
          "base_uri": "https://localhost:8080/"
        },
        "id": "oDEIajp3MFiI",
        "outputId": "254c73f5-91ba-46f5-f223-639ebf5f7e5d"
      },
      "execution_count": null,
      "outputs": [
        {
          "output_type": "stream",
          "name": "stdout",
          "text": [
            "Digite um número inteiro: 10\n",
            "10 é um número PAR.\n"
          ]
        }
      ]
    },
    {
      "cell_type": "code",
      "source": [
        "name = \"Ocean\"\n",
        "version = \"Tech School 2.0\"\n",
        "print(f\"Programa: {name:<10}\\nEdição: {version}\")"
      ],
      "metadata": {
        "colab": {
          "base_uri": "https://localhost:8080/"
        },
        "id": "lujLGQnMTnGQ",
        "outputId": "3a215184-27fc-4d24-bd1b-b7aac31c6458"
      },
      "execution_count": null,
      "outputs": [
        {
          "output_type": "stream",
          "name": "stdout",
          "text": [
            "Programa: Ocean     \n",
            "Edição: Tech School 2.0\n"
          ]
        }
      ]
    }
  ]
}